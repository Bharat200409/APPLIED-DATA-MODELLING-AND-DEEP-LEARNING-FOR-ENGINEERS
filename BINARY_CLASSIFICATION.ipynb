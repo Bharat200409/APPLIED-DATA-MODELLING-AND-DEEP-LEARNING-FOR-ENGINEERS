{
  "nbformat": 4,
  "nbformat_minor": 0,
  "metadata": {
    "colab": {
      "provenance": [],
      "authorship_tag": "ABX9TyM+ZfG1BwDu1AtmCp19StS7",
      "include_colab_link": true
    },
    "kernelspec": {
      "name": "python3",
      "display_name": "Python 3"
    },
    "language_info": {
      "name": "python"
    }
  },
  "cells": [
    {
      "cell_type": "markdown",
      "metadata": {
        "id": "view-in-github",
        "colab_type": "text"
      },
      "source": [
        "<a href=\"https://colab.research.google.com/github/Bharat200409/APPLIED-DATA-MODELLING-AND-DEEP-LEARNING-FOR-ENGINEERS/blob/main/BINARY_CLASSIFICATION.ipynb\" target=\"_parent\"><img src=\"https://colab.research.google.com/assets/colab-badge.svg\" alt=\"Open In Colab\"/></a>"
      ]
    },
    {
      "cell_type": "code",
      "execution_count": 1,
      "metadata": {
        "colab": {
          "base_uri": "https://localhost:8080/"
        },
        "id": "BJM-6kn2IfjF",
        "outputId": "9db4bb34-cda2-41a2-c035-dac878f9b631"
      },
      "outputs": [
        {
          "output_type": "stream",
          "name": "stdout",
          "text": [
            "Epoch 1/10\n",
            "20/20 [==============================] - 3s 41ms/step - loss: 0.6783 - accuracy: 0.6078 - val_loss: 0.6621 - val_accuracy: 0.6313\n",
            "Epoch 2/10\n",
            "20/20 [==============================] - 0s 8ms/step - loss: 0.6620 - accuracy: 0.5594 - val_loss: 0.6409 - val_accuracy: 0.6313\n",
            "Epoch 3/10\n",
            "20/20 [==============================] - 0s 6ms/step - loss: 0.6462 - accuracy: 0.5828 - val_loss: 0.6213 - val_accuracy: 0.6562\n",
            "Epoch 4/10\n",
            "20/20 [==============================] - 0s 9ms/step - loss: 0.6288 - accuracy: 0.6516 - val_loss: 0.6034 - val_accuracy: 0.6875\n",
            "Epoch 5/10\n",
            "20/20 [==============================] - 0s 10ms/step - loss: 0.6099 - accuracy: 0.7344 - val_loss: 0.5856 - val_accuracy: 0.7437\n",
            "Epoch 6/10\n",
            "20/20 [==============================] - 0s 8ms/step - loss: 0.5891 - accuracy: 0.7672 - val_loss: 0.5638 - val_accuracy: 0.7937\n",
            "Epoch 7/10\n",
            "20/20 [==============================] - 0s 7ms/step - loss: 0.5661 - accuracy: 0.8016 - val_loss: 0.5412 - val_accuracy: 0.8250\n",
            "Epoch 8/10\n",
            "20/20 [==============================] - 0s 15ms/step - loss: 0.5416 - accuracy: 0.8313 - val_loss: 0.5188 - val_accuracy: 0.8938\n",
            "Epoch 9/10\n",
            "20/20 [==============================] - 0s 7ms/step - loss: 0.5152 - accuracy: 0.8453 - val_loss: 0.4918 - val_accuracy: 0.8875\n",
            "Epoch 10/10\n",
            "20/20 [==============================] - 0s 8ms/step - loss: 0.4880 - accuracy: 0.8734 - val_loss: 0.4687 - val_accuracy: 0.9438\n",
            "7/7 [==============================] - 0s 3ms/step\n",
            "Test accuracy: 0.9100\n"
          ]
        }
      ],
      "source": [
        "#2.BINARY CLASSIFICATION\n",
        "import numpy as np\n",
        "import tensorflow as tf\n",
        "from tensorflow.keras.models import Sequential\n",
        "from tensorflow.keras.layers import Dense,Input\n",
        "from sklearn.model_selection import train_test_split\n",
        "from sklearn.metrics import accuracy_score\n",
        "np.random.seed(42)\n",
        "X = np.random.rand(1000, 2)\n",
        "y = (X[:, 0] + X[:, 1] > 1).astype(int)\n",
        "X_train, X_test, y_train, y_test = train_test_split(X, y, test_size=0.2, random_state=42)\n",
        "model = Sequential([Input(shape=(2)),Dense(64, activation='relu'),Dense(1, activation='sigmoid')])\n",
        "model.compile(optimizer='adam',loss='binary_crossentropy',metrics=['accuracy'])\n",
        "model.fit(X_train, y_train, epochs=10, batch_size=32, validation_split=0.2)\n",
        "y_pred = model.predict(X_test)\n",
        "y_pred_binary = (y_pred > 0.5).astype(int)\n",
        "test_accuracy = accuracy_score(y_test, y_pred_binary)\n",
        "print(f\"Test accuracy: {test_accuracy:.4f}\")"
      ]
    }
  ]
}