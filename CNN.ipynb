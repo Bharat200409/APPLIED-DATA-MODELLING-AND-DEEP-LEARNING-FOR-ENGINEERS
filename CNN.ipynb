{
  "nbformat": 4,
  "nbformat_minor": 0,
  "metadata": {
    "colab": {
      "provenance": [],
      "authorship_tag": "ABX9TyNStJjXjNSL7sKbZu7oWxRg",
      "include_colab_link": true
    },
    "kernelspec": {
      "name": "python3",
      "display_name": "Python 3"
    },
    "language_info": {
      "name": "python"
    }
  },
  "cells": [
    {
      "cell_type": "markdown",
      "metadata": {
        "id": "view-in-github",
        "colab_type": "text"
      },
      "source": [
        "<a href=\"https://colab.research.google.com/github/Bharat200409/APPLIED-DATA-MODELLING-AND-DEEP-LEARNING-FOR-ENGINEERS/blob/main/Untitled30.ipynb\" target=\"_parent\"><img src=\"https://colab.research.google.com/assets/colab-badge.svg\" alt=\"Open In Colab\"/></a>"
      ]
    },
    {
      "cell_type": "code",
      "execution_count": 1,
      "metadata": {
        "colab": {
          "base_uri": "https://localhost:8080/"
        },
        "id": "vJZCZADmMjR3",
        "outputId": "108f7980-5b5d-451f-cfb1-f4505a5e6e92"
      },
      "outputs": [
        {
          "output_type": "stream",
          "name": "stdout",
          "text": [
            "Downloading data from https://storage.googleapis.com/tensorflow/tf-keras-datasets/mnist.npz\n",
            "11490434/11490434 [==============================] - 0s 0us/step\n",
            "Epoch 1/10\n",
            "300/300 - 41s - loss: 0.3245 - accuracy: 0.9014 - 41s/epoch - 138ms/step\n",
            "Epoch 2/10\n",
            "300/300 - 37s - loss: 0.0980 - accuracy: 0.9711 - 37s/epoch - 125ms/step\n",
            "Epoch 3/10\n",
            "300/300 - 37s - loss: 0.0699 - accuracy: 0.9793 - 37s/epoch - 123ms/step\n",
            "Epoch 4/10\n",
            "300/300 - 35s - loss: 0.0582 - accuracy: 0.9823 - 35s/epoch - 118ms/step\n",
            "Epoch 5/10\n",
            "300/300 - 37s - loss: 0.0499 - accuracy: 0.9854 - 37s/epoch - 123ms/step\n",
            "Epoch 6/10\n",
            "300/300 - 37s - loss: 0.0420 - accuracy: 0.9868 - 37s/epoch - 123ms/step\n",
            "Epoch 7/10\n",
            "300/300 - 35s - loss: 0.0373 - accuracy: 0.9887 - 35s/epoch - 118ms/step\n",
            "Epoch 8/10\n",
            "300/300 - 37s - loss: 0.0321 - accuracy: 0.9899 - 37s/epoch - 122ms/step\n",
            "Epoch 9/10\n",
            "300/300 - 36s - loss: 0.0307 - accuracy: 0.9901 - 36s/epoch - 121ms/step\n",
            "Epoch 10/10\n",
            "300/300 - 36s - loss: 0.0267 - accuracy: 0.9916 - 36s/epoch - 119ms/step\n",
            "Test accuracy: 99.17%\n"
          ]
        }
      ],
      "source": [
        "#9 CNN\n",
        "import tensorflow as tf\n",
        "from tensorflow.keras.datasets import mnist\n",
        "from tensorflow.keras.models import Sequential\n",
        "from tensorflow.keras.layers import Conv2D, MaxPooling2D, Flatten, Dense, Dropout\n",
        "from tensorflow.keras.utils import to_categorical\n",
        "# Load and preprocess the dataset\n",
        "(x_train, y_train), (x_test, y_test) = mnist.load_data()\n",
        "x_train = x_train.reshape(x_train.shape[0], 28, 28, 1).astype('float32') / 255\n",
        "x_test = x_test.reshape(x_test.shape[0], 28, 28, 1).astype('float32') / 255\n",
        "y_train = to_categorical(y_train, 10)\n",
        "y_test = to_categorical(y_test, 10)\n",
        "# Build the CNN model\n",
        "model = Sequential()\n",
        "model.add(Conv2D(32, kernel_size=(3, 3), activation='relu', input_shape=(28, 28, 1)))\n",
        "model.add(MaxPooling2D(pool_size=(2, 2)))\n",
        "model.add(Conv2D(64, kernel_size=(3, 3), activation='relu'))\n",
        "model.add(MaxPooling2D(pool_size=(2, 2)))\n",
        "model.add(Flatten())\n",
        "model.add(Dense(128, activation='relu'))\n",
        "model.add(Dropout(0.5))\n",
        "model.add(Dense(10, activation='softmax'))\n",
        "model.compile(loss='categorical_crossentropy', optimizer='adam',metrics=['accuracy'])\n",
        "# Train the model\n",
        "model.fit(x_train, y_train, epochs=10,batch_size=200, verbose=2)\n",
        "# Evaluate the model\n",
        "test_loss, test_acc = model.evaluate(x_test, y_test, verbose=0)\n",
        "print(f'Test accuracy: {test_acc*100:.2f}%')"
      ]
    }
  ]
}
