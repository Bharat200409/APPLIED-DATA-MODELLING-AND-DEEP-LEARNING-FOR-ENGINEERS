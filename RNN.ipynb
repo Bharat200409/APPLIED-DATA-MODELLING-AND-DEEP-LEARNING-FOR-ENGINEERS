{
  "nbformat": 4,
  "nbformat_minor": 0,
  "metadata": {
    "colab": {
      "provenance": [],
      "authorship_tag": "ABX9TyPSynbuvZ0J6Et9zr0Pmwzc",
      "include_colab_link": true
    },
    "kernelspec": {
      "name": "python3",
      "display_name": "Python 3"
    },
    "language_info": {
      "name": "python"
    }
  },
  "cells": [
    {
      "cell_type": "markdown",
      "metadata": {
        "id": "view-in-github",
        "colab_type": "text"
      },
      "source": [
        "<a href=\"https://colab.research.google.com/github/Bharat200409/APPLIED-DATA-MODELLING-AND-DEEP-LEARNING-FOR-ENGINEERS/blob/main/RNN.ipynb\" target=\"_parent\"><img src=\"https://colab.research.google.com/assets/colab-badge.svg\" alt=\"Open In Colab\"/></a>"
      ]
    },
    {
      "cell_type": "code",
      "execution_count": 1,
      "metadata": {
        "colab": {
          "base_uri": "https://localhost:8080/"
        },
        "id": "oyjaJYBfLASh",
        "outputId": "6a6c700c-a1be-4e84-aa9b-7b0c0fb3008a"
      },
      "outputs": [
        {
          "output_type": "stream",
          "name": "stdout",
          "text": [
            "Epoch 1/10\n",
            "4/4 [==============================] - 3s 17ms/step - loss: 1.3734\n",
            "Epoch 2/10\n",
            "4/4 [==============================] - 0s 19ms/step - loss: 1.2573\n",
            "Epoch 3/10\n",
            "4/4 [==============================] - 0s 23ms/step - loss: 1.2026\n",
            "Epoch 4/10\n",
            "4/4 [==============================] - 0s 12ms/step - loss: 1.1850\n",
            "Epoch 5/10\n",
            "4/4 [==============================] - 0s 9ms/step - loss: 1.1575\n",
            "Epoch 6/10\n",
            "4/4 [==============================] - 0s 13ms/step - loss: 1.1305\n",
            "Epoch 7/10\n",
            "4/4 [==============================] - 0s 9ms/step - loss: 1.1059\n",
            "Epoch 8/10\n",
            "4/4 [==============================] - 0s 15ms/step - loss: 1.0930\n",
            "Epoch 9/10\n",
            "4/4 [==============================] - 0s 11ms/step - loss: 1.0765\n",
            "Epoch 10/10\n",
            "4/4 [==============================] - 0s 9ms/step - loss: 1.0684\n",
            "1/1 [==============================] - 1s 531ms/step - loss: 1.5853\n"
          ]
        },
        {
          "output_type": "execute_result",
          "data": {
            "text/plain": [
              "1.5852653980255127"
            ]
          },
          "metadata": {},
          "execution_count": 1
        }
      ],
      "source": [
        "#5.RNN\n",
        "import numpy as np\n",
        "import tensorflow as tf\n",
        "from tensorflow import keras\n",
        "model = keras.Sequential([keras.layers.SimpleRNN(32, input_shape=(10,1)),keras.layers.Dense(1)])\n",
        "model.compile(optimizer='adam', loss='mse')\n",
        "X_train = np.random.randn(100, 10, 1)\n",
        "y_train = np.random.randn(100, 1)\n",
        "model.fit(X_train, y_train, epochs=10, batch_size=32)\n",
        "X_test = np.random.randn(10, 10, 1)\n",
        "y_test = np.random.randn(10, 1)\n",
        "model.evaluate(X_test, y_test)"
      ]
    }
  ]
}